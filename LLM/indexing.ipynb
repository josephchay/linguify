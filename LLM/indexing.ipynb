{
 "cells": [
  {
   "cell_type": "code",
   "execution_count": null,
   "id": "790a1f16",
   "metadata": {},
   "outputs": [],
   "source": [
    "%pip install langchain_chroma"
   ]
  },
  {
   "cell_type": "code",
   "execution_count": null,
   "id": "0b102b2f",
   "metadata": {},
   "outputs": [],
   "source": [
    "import os\n",
    "import fitz  # PyMuPDF\n",
    "import chromadb\n",
    "import re\n",
    "from langchain.text_splitter import RecursiveCharacterTextSplitter\n",
    "from langchain.docstore.document import Document\n",
    "from langchain.embeddings import HuggingFaceEmbeddings"
   ]
  },
  {
   "cell_type": "code",
   "execution_count": 2,
   "id": "932b56cd",
   "metadata": {},
   "outputs": [
    {
     "name": "stderr",
     "output_type": "stream",
     "text": [
      "/var/folders/tt/wthpjbnn30v15mvkjnkfrd1c0000gn/T/ipykernel_11905/1988199688.py:55: LangChainDeprecationWarning: The class `HuggingFaceEmbeddings` was deprecated in LangChain 0.2.2 and will be removed in 1.0. An updated version of the class exists in the :class:`~langchain-huggingface package and should be used instead. To use it run `pip install -U :class:`~langchain-huggingface` and import as `from :class:`~langchain_huggingface import HuggingFaceEmbeddings``.\n",
      "  embeddings = HuggingFaceEmbeddings(model_name=\"sentence-transformers/all-MiniLM-L6-v2\")\n",
      "/Users/leongtinjet/Documents/Year 3 Module/Designing Intelligence Agent/linguify/LLM/.venv/lib/python3.11/site-packages/tqdm/auto.py:21: TqdmWarning: IProgress not found. Please update jupyter and ipywidgets. See https://ipywidgets.readthedocs.io/en/stable/user_install.html\n",
      "  from .autonotebook import tqdm as notebook_tqdm\n"
     ]
    }
   ],
   "source": [
    "### e-invoice PDF indexing\n",
    "\n",
    "def extract_text_from_pdf(pdf_path):\n",
    "    \"\"\"Extract text from a single PDF file.\"\"\"\n",
    "    doc = fitz.open(pdf_path)\n",
    "    text = \"\"\n",
    "    for page in doc:\n",
    "        text += page.get_text(\"text\") + \"\\n\"\n",
    "    return text.strip()\n",
    "\n",
    "def extract_all_pdf_content(directory):\n",
    "    documents = []\n",
    "    for file_name in os.listdir(directory):\n",
    "        if file_name.endswith(\".pdf\"):\n",
    "            file_path = os.path.join(directory, file_name)\n",
    "            pdf_text = extract_text_from_pdf(file_path)\n",
    "            documents.append(Document(\n",
    "                page_content=pdf_text,\n",
    "                metadata={\"source\": file_name}\n",
    "            ))\n",
    "    return documents\n",
    "\n",
    "def split_text(documents):\n",
    "    text_splitter = RecursiveCharacterTextSplitter.from_tiktoken_encoder(\n",
    "        chunk_size=800, chunk_overlap=100\n",
    "    )\n",
    "    return text_splitter.split_documents(documents)\n",
    "\n",
    "def store_in_vector_db(chunks, persist_path, collection_name):\n",
    "    texts = [chunk.page_content for chunk in chunks]\n",
    "    metadatas = [chunk.metadata for chunk in chunks]\n",
    "    embedded_chunks = embeddings.embed_documents(texts)\n",
    "\n",
    "    client = chromadb.PersistentClient(path=persist_path)\n",
    "    collection = client.get_or_create_collection(name=collection_name)\n",
    "\n",
    "    ids = [str(i) for i in range(len(texts))]\n",
    "    collection.add(\n",
    "        ids=ids,\n",
    "        embeddings=embedded_chunks,\n",
    "        documents=texts,\n",
    "        metadatas=metadatas\n",
    "    )\n",
    "\n",
    "    print(\"✅ Stored all documents in vector DB.\")\n",
    "    return client\n",
    "\n",
    "# Get the directory of the current script\n",
    "BASE_DIR = os.getcwd()\n",
    "\n",
    "# === CONFIGURATION ===\n",
    "PDF_DIRECTORY = os.path.join(BASE_DIR, \"datasource\", \"finance\", \"E-invoice-pdf\")\n",
    "\n",
    "# === RUN THE WORKFLOW ===\n",
    "embeddings = HuggingFaceEmbeddings(model_name=\"sentence-transformers/all-MiniLM-L6-v2\")\n",
    "documents = extract_all_pdf_content(PDF_DIRECTORY)\n",
    "chunks = split_text(documents)\n"
   ]
  },
  {
   "cell_type": "code",
   "execution_count": 6,
   "id": "ea95f04b",
   "metadata": {},
   "outputs": [],
   "source": [
    "# 1. Load and structure content from .txt files\n",
    "def extract_structured_txt_content(directory):\n",
    "    documents = []\n",
    "    for file_name in os.listdir(directory):\n",
    "        if file_name.endswith(\".txt\"):\n",
    "            file_path = os.path.join(directory, file_name)\n",
    "            with open(file_path, \"r\", encoding=\"utf-8\") as file:\n",
    "                full_text = file.read()\n",
    "\n",
    "                # Split by --- URL ---\n",
    "                sections = re.split(r'^--- (https?://[^\\s]+) ---$', full_text, flags=re.MULTILINE)\n",
    "                # Returns ['', url1, content1, url2, content2, ...]\n",
    "                for i in range(1, len(sections), 2):\n",
    "                    url = sections[i].strip()\n",
    "                    content = sections[i + 1].strip()\n",
    "\n",
    "                    if content:\n",
    "                        documents.append(Document(\n",
    "                            page_content=content,\n",
    "                            metadata={\"source\": file_name, \"url\": url}\n",
    "                        ))\n",
    "    return documents\n",
    "\n",
    "# 2. Smart chunking using LangChain text splitter\n",
    "def split_text_by_structure(documents):\n",
    "    splitter = RecursiveCharacterTextSplitter(\n",
    "        chunk_size=800,\n",
    "        chunk_overlap=100\n",
    "    )\n",
    "    return splitter.split_documents(documents)\n",
    "\n",
    "# 3. Store into Chroma DB\n",
    "def store_in_vector_db(chunks, persist_path, collection_name):\n",
    "    texts = [chunk.page_content for chunk in chunks]\n",
    "    metadatas = [chunk.metadata for chunk in chunks]\n",
    "\n",
    "    # Create embeddings\n",
    "    embedded_chunks = embeddings.embed_documents(texts)\n",
    "\n",
    "    # Initialize Chroma DB\n",
    "    client = chromadb.PersistentClient(path=persist_path)\n",
    "    collection = client.get_or_create_collection(name=collection_name)\n",
    "\n",
    "    ids = [str(i) for i in range(len(texts))]\n",
    "    collection.add(\n",
    "        ids=ids,\n",
    "        embeddings=embedded_chunks,\n",
    "        documents=texts,\n",
    "        metadatas=metadatas\n",
    "    )\n",
    "\n",
    "    print(\"✅ Stored all documents in vector DB.\")\n",
    "    return client\n",
    "\n",
    "# Get the directory of the current script\n",
    "BASE_DIR = os.getcwd()\n",
    "\n",
    "# === CONFIGURATION ===\n",
    "TXT_DIRECTORY = os.path.join(BASE_DIR, \"datasource\", \"finance\", \"tax\")\n",
    "PERSIST_DIRECTORY = os.path.join(BASE_DIR, \"vector-db\", \"lhdn_db_new\")\n",
    "COLLECTION_NAME = \"lhdn\"\n",
    "\n",
    "# === RUN THE WORKFLOW ===\n",
    "documents = extract_structured_txt_content(TXT_DIRECTORY)\n",
    "tax_chunks = split_text_by_structure(documents)\n"
   ]
  },
  {
   "cell_type": "code",
   "execution_count": null,
   "id": "266b3095",
   "metadata": {},
   "outputs": [
    {
     "name": "stdout",
     "output_type": "stream",
     "text": [
      "✅ Stored all documents in vector DB.\n"
     ]
    },
    {
     "data": {
      "text/plain": [
       "<chromadb.api.client.Client at 0x320286d10>"
      ]
     },
     "execution_count": 7,
     "metadata": {},
     "output_type": "execute_result"
    }
   ],
   "source": [
    "combined_chunks = chunks + tax_chunks\n",
    "store_in_vector_db(combined_chunks, PERSIST_DIRECTORY, COLLECTION_NAME)"
   ]
  }
 ],
 "metadata": {
  "kernelspec": {
   "display_name": ".venv",
   "language": "python",
   "name": "python3"
  },
  "language_info": {
   "codemirror_mode": {
    "name": "ipython",
    "version": 3
   },
   "file_extension": ".py",
   "mimetype": "text/x-python",
   "name": "python",
   "nbconvert_exporter": "python",
   "pygments_lexer": "ipython3",
   "version": "3.11.11"
  }
 },
 "nbformat": 4,
 "nbformat_minor": 5
}
